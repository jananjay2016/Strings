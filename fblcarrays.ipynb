{
 "cells": [
  {
   "cell_type": "code",
   "execution_count": 1,
   "metadata": {},
   "outputs": [],
   "source": [
    "class Solution(object):\n",
    "    def isAnagram(self, s, t):\n",
    "        # \"\"\"\n",
    "        # :type s: str\n",
    "        # :type t: str\n",
    "        # :rtype: bool\n",
    "        # \"\"\"\n",
    "        # if sorted(s)==sorted(t):\n",
    "        #     return True\n",
    "        # else:\n",
    "        #     return False\n",
    "        \n",
    "        dict= {}\n",
    "        for item in s:\n",
    "                dict[item]= dict.get(item,0)+1                       \n",
    "        for item in t:\n",
    "                dict[item]=dict.get(item,0)-1\n",
    "                \n",
    "        for items in dict.values():\n",
    "            \n",
    "             if items != 0:\n",
    "                return False\n",
    "             else:\n",
    "                return True"
   ]
  },
  {
   "cell_type": "code",
   "execution_count": 4,
   "metadata": {},
   "outputs": [
    {
     "data": {
      "text/plain": [
       "True"
      ]
     },
     "execution_count": 4,
     "metadata": {},
     "output_type": "execute_result"
    }
   ],
   "source": [
    "a=Solution()\n",
    "a.isAnagram('jananj','ananji')"
   ]
  },
  {
   "cell_type": "code",
   "execution_count": null,
   "metadata": {},
   "outputs": [],
   "source": []
  },
  {
   "cell_type": "code",
   "execution_count": null,
   "metadata": {},
   "outputs": [],
   "source": []
  }
 ],
 "metadata": {
  "kernelspec": {
   "display_name": "Python 2",
   "language": "python",
   "name": "python2"
  },
  "language_info": {
   "codemirror_mode": {
    "name": "ipython",
    "version": 2
   },
   "file_extension": ".py",
   "mimetype": "text/x-python",
   "name": "python",
   "nbconvert_exporter": "python",
   "pygments_lexer": "ipython2",
   "version": "2.7.16"
  }
 },
 "nbformat": 4,
 "nbformat_minor": 2
}
