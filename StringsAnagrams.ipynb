{
 "cells": [
  {
   "cell_type": "code",
   "execution_count": 1,
   "metadata": {},
   "outputs": [],
   "source": [
    "# find if 2 strings are anagrams of each other\n",
    "class Solution(object):\n",
    "    def isAnagram(self, s, t):\n",
    "        # \"\"\"\n",
    "        # :type s: str\n",
    "        # :type t: str\n",
    "        # :rtype: bool\n",
    "        # \"\"\"\n",
    "        # if sorted(s)==sorted(t):\n",
    "        #     return True\n",
    "        # else:\n",
    "        #     return False\n",
    "        \n",
    "        dict= {}\n",
    "        for item in s:\n",
    "                dict[item]= dict.get(item,0)+1                       \n",
    "        for item in t:\n",
    "                dict[item]=dict.get(item,0)-1\n",
    "                \n",
    "        for items in dict.values():\n",
    "            \n",
    "             if items != 0:\n",
    "                return False\n",
    "             else:\n",
    "                return True"
   ]
  },
  {
   "cell_type": "code",
   "execution_count": 4,
   "metadata": {},
   "outputs": [
    {
     "data": {
      "text/plain": [
       "True"
      ]
     },
     "execution_count": 4,
     "metadata": {},
     "output_type": "execute_result"
    }
   ],
   "source": [
    "a=Solution()\n",
    "a.isAnagram('jananj','ananji')"
   ]
  },
  {
   "cell_type": "code",
   "execution_count": 38,
   "metadata": {},
   "outputs": [],
   "source": [
    "# Given an array of strings, group anagrams together.\n",
    "\n",
    "# Example:\n",
    "\n",
    "# Input: [\"eat\", \"tea\", \"tan\", \"ate\", \"nat\", \"bat\"],\n",
    "# Output:\n",
    "# [\n",
    "#   [\"ate\",\"eat\",\"tea\"],\n",
    "#   [\"nat\",\"tan\"],\n",
    "#   [\"bat\"]\n",
    "# ]\n",
    "\n",
    "\n",
    "\n",
    "class Solution(object):\n",
    "    def groupAnagrams(self, strs):\n",
    "        d= {}\n",
    "        for str in strs:\n",
    "            key = tuple(sorted(str)) # immutable so you\n",
    "            \n",
    "            d[key]=d.get(key,[])+[str]\n",
    "        return d.values()\n",
    "            \n",
    "#             if key in d:\n",
    "#                 d[key]+=[str]\n",
    "#             else:\n",
    "#                 d[key] =[str]\n",
    "              \n",
    "        \n",
    "                    "
   ]
  },
  {
   "cell_type": "code",
   "execution_count": 41,
   "metadata": {},
   "outputs": [
    {
     "data": {
      "text/plain": [
       "[['are', 'ear'], ['bat', 'tab'], [''], ['jan']]"
      ]
     },
     "execution_count": 41,
     "metadata": {},
     "output_type": "execute_result"
    }
   ],
   "source": [
    "a=Solution()\n",
    "a.groupAnagrams([\"are\",\"bat\",\"ear\",\"tab\",'jan',''])"
   ]
  },
  {
   "cell_type": "raw",
   "metadata": {},
   "source": [
    "# Time Complexity: O(NKlogK), where N is the length of strs, and K is the maximum length of a string in strs. The outer loop has complexity O(N)as we iterate through each string. Then, we sort each string in O(KlogK) time.\n",
    "\n",
    "Space Complexity: O(NK), the total information content stored in d.\n"
   ]
  },
  {
   "cell_type": "markdown",
   "metadata": {},
   "source": [
    "Find All Anagrams in a String\n",
    "Input:\n",
    "s: \"cbaebabacd\" p: \"abc\"\n",
    "\n",
    "Output:\n",
    "[0, 6]\n",
    "\n",
    "Explanation:\n",
    "The substring with start index = 0 is \"cba\", which is an anagram of \"abc\".\n",
    "The substring with start index = 6 is \"bac\", which is an anagram of \"abc\".\n",
    "\n"
   ]
  },
  {
   "cell_type": "code",
   "execution_count": 42,
   "metadata": {},
   "outputs": [
    {
     "ename": "IndentationError",
     "evalue": "expected an indented block (<ipython-input-42-7d812b51249b>, line 3)",
     "output_type": "error",
     "traceback": [
      "\u001b[1;36m  File \u001b[1;32m\"<ipython-input-42-7d812b51249b>\"\u001b[1;36m, line \u001b[1;32m3\u001b[0m\n\u001b[1;33m    \u001b[0m\n\u001b[1;37m    ^\u001b[0m\n\u001b[1;31mIndentationError\u001b[0m\u001b[1;31m:\u001b[0m expected an indented block\n"
     ]
    }
   ],
   "source": [
    "class Solution(object):\n",
    "    def findAnagrams(self,s,p):\n",
    "        "
   ]
  },
  {
   "cell_type": "code",
   "execution_count": 71,
   "metadata": {},
   "outputs": [
    {
     "name": "stdout",
     "output_type": "stream",
     "text": [
      "a : 3\n",
      "b : 2\n",
      "c : 1\n",
      "d : 1\n",
      "e : 0\n"
     ]
    }
   ],
   "source": [
    "import collections\n",
    "\n",
    "c = collections.Counter('abcdaab')\n",
    "\n",
    "for letter in 'abcde':\n",
    "    print '%s : %d' % (letter, c[letter])"
   ]
  },
  {
   "cell_type": "code",
   "execution_count": 145,
   "metadata": {},
   "outputs": [],
   "source": [
    "class Solution(object):\n",
    "    def findAnagrams1(self, s, p):\n",
    "        \"\"\"\n",
    "        :type s: str\n",
    "        :type p: str\n",
    "        :rtype: List[int]\n",
    "        \"\"\"\n",
    "        from collections import Counter\n",
    "        \n",
    "        pCounter = Counter(p)\n",
    "        sCounter = Counter(s[:len(p)-1])\n",
    "        \n",
    "        res=[]\n",
    "        \n",
    "        for i in range(len(p)-1,len(s)):\n",
    "            print ('sCounter BEFORE: {}'.format(sCounter))\n",
    "            sCounter[s[i]]+=1\n",
    "            print('the sCounter for {} : {} is {}'.format(i,s[i],sCounter))\n",
    "            \n",
    "            if sCounter == pCounter:\n",
    "                res.append(i-len(p)+1)\n",
    "            \n",
    "            sCounter[s[i-len(p)+1]]-=1\n",
    "            if sCounter[s[i-len(p)+1]] ==0:\n",
    "                print ('I will be deleting{}'.format([s[i-len(p)+1]]))\n",
    "                del sCounter[s[i-len(p)+1]]\n",
    "            print ('sCounter AFTER: {}'.format(sCounter))\n",
    "            print('\\n\\n\\n')\n",
    "        return res\n",
    "\n"
   ]
  },
  {
   "cell_type": "code",
   "execution_count": 146,
   "metadata": {},
   "outputs": [],
   "source": [
    "a=Solution()\n"
   ]
  },
  {
   "cell_type": "code",
   "execution_count": 147,
   "metadata": {},
   "outputs": [
    {
     "name": "stdout",
     "output_type": "stream",
     "text": [
      "sCounter BEFORE: Counter({'a': 1, 'j': 1})\n",
      "the sCounter for 2 : n is Counter({'a': 1, 'j': 1, 'n': 1})\n",
      "I will be deleting['j']\n",
      "sCounter AFTER: Counter({'a': 1, 'n': 1})\n",
      "\n",
      "\n",
      "\n",
      "\n",
      "sCounter BEFORE: Counter({'a': 1, 'n': 1})\n",
      "the sCounter for 3 : a is Counter({'a': 2, 'n': 1})\n",
      "sCounter AFTER: Counter({'a': 1, 'n': 1})\n",
      "\n",
      "\n",
      "\n",
      "\n",
      "sCounter BEFORE: Counter({'a': 1, 'n': 1})\n",
      "the sCounter for 4 : n is Counter({'n': 2, 'a': 1})\n",
      "sCounter AFTER: Counter({'a': 1, 'n': 1})\n",
      "\n",
      "\n",
      "\n",
      "\n",
      "sCounter BEFORE: Counter({'a': 1, 'n': 1})\n",
      "the sCounter for 5 : j is Counter({'a': 1, 'j': 1, 'n': 1})\n",
      "I will be deleting['a']\n",
      "sCounter AFTER: Counter({'j': 1, 'n': 1})\n",
      "\n",
      "\n",
      "\n",
      "\n",
      "sCounter BEFORE: Counter({'j': 1, 'n': 1})\n",
      "the sCounter for 6 : k is Counter({'k': 1, 'j': 1, 'n': 1})\n",
      "I will be deleting['n']\n",
      "sCounter AFTER: Counter({'k': 1, 'j': 1})\n",
      "\n",
      "\n",
      "\n",
      "\n",
      "sCounter BEFORE: Counter({'k': 1, 'j': 1})\n",
      "the sCounter for 7 : j is Counter({'j': 2, 'k': 1})\n",
      "sCounter AFTER: Counter({'k': 1, 'j': 1})\n",
      "\n",
      "\n",
      "\n",
      "\n",
      "sCounter BEFORE: Counter({'k': 1, 'j': 1})\n",
      "the sCounter for 8 : h is Counter({'h': 1, 'k': 1, 'j': 1})\n",
      "I will be deleting['k']\n",
      "sCounter AFTER: Counter({'h': 1, 'j': 1})\n",
      "\n",
      "\n",
      "\n",
      "\n",
      "sCounter BEFORE: Counter({'h': 1, 'j': 1})\n",
      "the sCounter for 9 : k is Counter({'h': 1, 'k': 1, 'j': 1})\n",
      "I will be deleting['j']\n",
      "sCounter AFTER: Counter({'h': 1, 'k': 1})\n",
      "\n",
      "\n",
      "\n",
      "\n"
     ]
    },
    {
     "data": {
      "text/plain": [
       "[0, 3]"
      ]
     },
     "execution_count": 147,
     "metadata": {},
     "output_type": "execute_result"
    }
   ],
   "source": [
    "a.findAnagrams1('jananjkjhk','jan')"
   ]
  },
  {
   "cell_type": "code",
   "execution_count": null,
   "metadata": {},
   "outputs": [],
   "source": []
  }
 ],
 "metadata": {
  "kernelspec": {
   "display_name": "Python 2",
   "language": "python",
   "name": "python2"
  },
  "language_info": {
   "codemirror_mode": {
    "name": "ipython",
    "version": 2
   },
   "file_extension": ".py",
   "mimetype": "text/x-python",
   "name": "python",
   "nbconvert_exporter": "python",
   "pygments_lexer": "ipython2",
   "version": "2.7.16"
  }
 },
 "nbformat": 4,
 "nbformat_minor": 2
}
