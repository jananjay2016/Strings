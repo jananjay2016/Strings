{
 "cells": [
  {
   "cell_type": "code",
   "execution_count": 25,
   "metadata": {},
   "outputs": [],
   "source": [
    "class Solution(object):\n",
    "    def validWordAbbreviation(self, word, abbr):\n",
    "        \"\"\"\n",
    "        :type word: str\n",
    "        :type abbr: str\n",
    "        :rtype: bool\n",
    "        \"\"\"\n",
    "        # word\n",
    "        # w11d\n",
    "        \n",
    "        i,j=0,0\n",
    "        \n",
    "\n",
    "        while i < len(word) and j < len(abbr):\n",
    "            if abbr[j].isalpha():\n",
    "                if word[i] != abbr[j]:\n",
    "                    return False\n",
    "                i+=1\n",
    "                j+=1\n",
    "                \n",
    "            elif abbr[j] == \"0\":\n",
    "                return False\n",
    "            \n",
    "           \n",
    "            else:\n",
    "                temp=\"\"               \n",
    "                while j<len(abbr) and abbr[j].isdigit():\n",
    "                        temp = temp+(abbr[j])                        \n",
    "                        print (temp)\n",
    "                        j+=1\n",
    "                                               \n",
    "                i+=int(temp)\n",
    "                                    \n",
    "        return i==len(word) and j==len(abbr)\n",
    "                        "
   ]
  },
  {
   "cell_type": "code",
   "execution_count": 26,
   "metadata": {},
   "outputs": [
    {
     "name": "stdout",
     "output_type": "stream",
     "text": [
      "5\n",
      "1\n",
      "11\n",
      "1\n"
     ]
    },
    {
     "data": {
      "text/plain": [
       "True"
      ]
     },
     "execution_count": 26,
     "metadata": {},
     "output_type": "execute_result"
    }
   ],
   "source": [
    "a = Solution()\n",
    "a.validWordAbbreviation ('internationalization','i5a11o1')"
   ]
  },
  {
   "cell_type": "markdown",
   "metadata": {},
   "source": [
    "Space Complexity - 2 pointers O(2N) =O(N) N is max(len(word vs abbr))\n",
    "Time COmplexity -  o(1)"
   ]
  },
  {
   "cell_type": "code",
   "execution_count": 22,
   "metadata": {},
   "outputs": [],
   "source": [
    "\n",
    "class Solution(object):\n",
    "    def read(self, buf, n):\n",
    "        \"\"\"\n",
    "        :type buf: Destination buffer (List[str])\n",
    "        :type n: Number of characters to read (int)\n",
    "        :rtype: The number of actual characters read (int)\n",
    "        \"\"\"\n",
    "        \n",
    "        idx = 0\n",
    "        while n > 0:\n",
    "            # read file to buf4\n",
    "            buf4 = [\"\"]*4\n",
    "            l = read4(buf4)\n",
    "            # if no more char in file, return\n",
    "            if not l:\n",
    "                return idx\n",
    "            # write buf4 into buf directly\n",
    "            for i in range(min(l, n)):\n",
    "                buf[idx] = buf4[i]\n",
    "                idx += 1\n",
    "                n -= 1\n",
    "        return idx"
   ]
  },
  {
   "cell_type": "code",
   "execution_count": 23,
   "metadata": {},
   "outputs": [
    {
     "ename": "NameError",
     "evalue": "name 'read4' is not defined",
     "output_type": "error",
     "traceback": [
      "\u001b[1;31m---------------------------------------------------------------------------\u001b[0m",
      "\u001b[1;31mNameError\u001b[0m                                 Traceback (most recent call last)",
      "\u001b[1;32m<ipython-input-23-615f4c64dd66>\u001b[0m in \u001b[0;36m<module>\u001b[1;34m\u001b[0m\n\u001b[0;32m      1\u001b[0m \u001b[0ma\u001b[0m \u001b[1;33m=\u001b[0m \u001b[0mSolution\u001b[0m\u001b[1;33m(\u001b[0m\u001b[1;33m)\u001b[0m\u001b[1;33m\u001b[0m\u001b[1;33m\u001b[0m\u001b[0m\n\u001b[1;32m----> 2\u001b[1;33m \u001b[0ma\u001b[0m\u001b[1;33m.\u001b[0m\u001b[0mread\u001b[0m\u001b[1;33m(\u001b[0m\u001b[1;34m'abc'\u001b[0m\u001b[1;33m,\u001b[0m\u001b[1;36m4\u001b[0m\u001b[1;33m)\u001b[0m\u001b[1;33m\u001b[0m\u001b[1;33m\u001b[0m\u001b[0m\n\u001b[0m",
      "\u001b[1;32m<ipython-input-22-305d539c84bc>\u001b[0m in \u001b[0;36mread\u001b[1;34m(self, buf, n)\u001b[0m\n\u001b[0;32m     11\u001b[0m             \u001b[1;31m# read file to buf4\u001b[0m\u001b[1;33m\u001b[0m\u001b[1;33m\u001b[0m\u001b[1;33m\u001b[0m\u001b[0m\n\u001b[0;32m     12\u001b[0m             \u001b[0mbuf4\u001b[0m \u001b[1;33m=\u001b[0m \u001b[1;33m[\u001b[0m\u001b[1;34m\"\"\u001b[0m\u001b[1;33m]\u001b[0m\u001b[1;33m*\u001b[0m\u001b[1;36m4\u001b[0m\u001b[1;33m\u001b[0m\u001b[1;33m\u001b[0m\u001b[0m\n\u001b[1;32m---> 13\u001b[1;33m             \u001b[0ml\u001b[0m \u001b[1;33m=\u001b[0m \u001b[0mread4\u001b[0m\u001b[1;33m(\u001b[0m\u001b[0mbuf4\u001b[0m\u001b[1;33m)\u001b[0m\u001b[1;33m\u001b[0m\u001b[1;33m\u001b[0m\u001b[0m\n\u001b[0m\u001b[0;32m     14\u001b[0m             \u001b[1;31m# if no more char in file, return\u001b[0m\u001b[1;33m\u001b[0m\u001b[1;33m\u001b[0m\u001b[1;33m\u001b[0m\u001b[0m\n\u001b[0;32m     15\u001b[0m             \u001b[1;32mif\u001b[0m \u001b[1;32mnot\u001b[0m \u001b[0ml\u001b[0m\u001b[1;33m:\u001b[0m\u001b[1;33m\u001b[0m\u001b[1;33m\u001b[0m\u001b[0m\n",
      "\u001b[1;31mNameError\u001b[0m: name 'read4' is not defined"
     ]
    }
   ],
   "source": [
    "a = Solution()\n",
    "a.read('abc',4)"
   ]
  },
  {
   "cell_type": "code",
   "execution_count": 27,
   "metadata": {},
   "outputs": [],
   "source": [
    "# Implement strStr().\n",
    "\n",
    "# Return the index of the first occurrence of needle in haystack, or -1 if needle is not part of haystack.\n",
    "class Solution(object):\n",
    "    def strStr(self, haystack, needle):\n",
    "        \"\"\"\n",
    "        :type haystack: str\n",
    "        :type needle: str\n",
    "        :rtype: int\n",
    "        \"\"\"\n",
    "        for i in range(len(haystack) - len(needle)+1):\n",
    "            print (i)\n",
    "            print (haystack[i:i+len(needle)])\n",
    "            if haystack[i:i+len(needle)] == needle:\n",
    "                return i\n",
    "        return -1"
   ]
  },
  {
   "cell_type": "code",
   "execution_count": 28,
   "metadata": {},
   "outputs": [
    {
     "name": "stdout",
     "output_type": "stream",
     "text": [
      "0\n",
      "le\n",
      "1\n",
      "ee\n"
     ]
    },
    {
     "data": {
      "text/plain": [
       "1"
      ]
     },
     "execution_count": 28,
     "metadata": {},
     "output_type": "execute_result"
    }
   ],
   "source": [
    "a = Solution()\n",
    "a.strStr('leetcode','ee')"
   ]
  },
  {
   "cell_type": "markdown",
   "metadata": {},
   "source": [
    "N is a length of haystack and \n",
    "L is a length of needle\n",
    "Time complexity: O((N-L)L)\n",
    "Space O(1)"
   ]
  },
  {
   "cell_type": "markdown",
   "metadata": {},
   "source": [
    "Algorithm\n",
    "\n",
    "Move pn till you'll find the first character of the needle string in the haystack.\n",
    "\n",
    "Compute the max string match by increasing pn, pL and curr_len in the case of equal characters.\n",
    "\n",
    "If you managed to get the full match, curr_len == L, return the start position of that match, pn - L.\n",
    "\n",
    "If you didn't, backtrack: pn = pn - curr_len + 1, pL = 0, curr_len = 0"
   ]
  },
  {
   "cell_type": "code",
   "execution_count": 18,
   "metadata": {},
   "outputs": [],
   "source": [
    "class Solution(object):\n",
    "    def strStr(self, haystack, needle):\n",
    "        lenh = 0\n",
    "        \n",
    "        for i in range(len(haystack) -len(needle)+1):\n",
    "            for j in range(len(needle)): \n",
    "           \n",
    "            \n",
    "                if haystack[i] == needle[j]:\n",
    "                    while haystack[i] == needle[j]:\n",
    "                        i+=1\n",
    "                        j+=1\n",
    "                                  \n",
    "                        lenh=lenh+1\n",
    "                        if lenh == len(needle):\n",
    "                            return lenh-len(needle)\n",
    "                        \n",
    "                i=i-lenh+1\n",
    "                \n",
    "        return -1\n",
    "                        \n",
    "                    \n",
    "                        "
   ]
  },
  {
   "cell_type": "code",
   "execution_count": 19,
   "metadata": {},
   "outputs": [
    {
     "data": {
      "text/plain": [
       "0"
      ]
     },
     "execution_count": 19,
     "metadata": {},
     "output_type": "execute_result"
    }
   ],
   "source": []
  },
  {
   "cell_type": "code",
   "execution_count": 64,
   "metadata": {},
   "outputs": [],
   "source": [
    "class Solution(object):\n",
    "    def strStr1(self, haystack: str, needle: str) -> int:\n",
    "        if not needle:\n",
    "            return 0\n",
    "        for i in range(len(haystack) - len(needle) + 1):\n",
    "           \n",
    "            for j, n_letter in enumerate(needle):\n",
    "                             \n",
    "                print ('i:{}, j:{}, n_letter:{}, haystack[i+j]:{}'. format(i,j,n_letter,haystack[i+j]))\n",
    "                if n_letter != haystack[i + j]:\n",
    "                        print (\"breaking\")\n",
    "                        break\n",
    "            else:\n",
    "                print (\"inside elseeeee\",i)\n",
    "                return i\n",
    "        return -1"
   ]
  },
  {
   "cell_type": "code",
   "execution_count": 63,
   "metadata": {},
   "outputs": [
    {
     "name": "stdout",
     "output_type": "stream",
     "text": [
      "i:0, j:0, n_letter:i, haystack[i+j]:m\n",
      "breaking\n",
      "i:1, j:0, n_letter:i, haystack[i+j]:i\n",
      "inside elseeeee 1\n"
     ]
    },
    {
     "data": {
      "text/plain": [
       "1"
      ]
     },
     "execution_count": 63,
     "metadata": {},
     "output_type": "execute_result"
    }
   ],
   "source": [
    "a = Solution()\n",
    "a.strStr1(\"mississippi\",\n",
    "\"issip\")"
   ]
  },
  {
   "cell_type": "code",
   "execution_count": 29,
   "metadata": {},
   "outputs": [],
   "source": [
    "class Solution:\n",
    "    def longestCommonPrefix(self, strs):\n",
    "        \"\"\"\n",
    "        :type strs: List[str] abc, abcd, abce\n",
    "        :rtype: str\n",
    "        \"\"\"\n",
    "        prefix = \"\"\n",
    "        if not strs: \n",
    "            return \"\"\n",
    "        \n",
    "        if len(strs) == 0:\n",
    "            return prefix\n",
    "        \n",
    "        for i in range(len(min(strs))):\n",
    "            print (min(strs))\n",
    "            c=strs[0][i]            \n",
    "            if all(str[i]==c for str in strs):\n",
    "                prefix+=c\n",
    "            else:\n",
    "                break             \n",
    "        return prefix         \n"
   ]
  },
  {
   "cell_type": "code",
   "execution_count": 30,
   "metadata": {},
   "outputs": [
    {
     "name": "stdout",
     "output_type": "stream",
     "text": [
      "ab\n",
      "ab\n"
     ]
    },
    {
     "data": {
      "text/plain": [
       "'ab'"
      ]
     },
     "execution_count": 30,
     "metadata": {},
     "output_type": "execute_result"
    }
   ],
   "source": [
    "        a = Solution()\n",
    "        a.longestCommonPrefix([\"abxc\",\"abx\",\"ab\"])"
   ]
  },
  {
   "cell_type": "markdown",
   "metadata": {},
   "source": [
    "Time COmplexity O(S) sum of all charaters in all strings\n",
    "Space complexity: O(1)"
   ]
  },
  {
   "cell_type": "code",
   "execution_count": null,
   "metadata": {},
   "outputs": [],
   "source": []
  }
 ],
 "metadata": {
  "kernelspec": {
   "display_name": "Python 3",
   "language": "python",
   "name": "python3"
  },
  "language_info": {
   "codemirror_mode": {
    "name": "ipython",
    "version": 3
   },
   "file_extension": ".py",
   "mimetype": "text/x-python",
   "name": "python",
   "nbconvert_exporter": "python",
   "pygments_lexer": "ipython3",
   "version": "3.7.6"
  }
 },
 "nbformat": 4,
 "nbformat_minor": 2
}
